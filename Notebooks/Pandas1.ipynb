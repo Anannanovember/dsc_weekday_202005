{
 "cells": [
  {
   "cell_type": "code",
   "execution_count": 2,
   "metadata": {},
   "outputs": [],
   "source": [
    "# all imports go at the top, even though python is a very open language\n",
    "import pandas as pd\n",
    "import numpy as np"
   ]
  },
  {
   "cell_type": "code",
   "execution_count": 1,
   "metadata": {},
   "outputs": [
    {
     "name": "stdout",
     "output_type": "stream",
     "text": [
      "[1, 4, 9]\n"
     ]
    }
   ],
   "source": [
    "a  = [1,2,3]\n",
    "print( list(  map(lambda x: x*x, a)   )  )"
   ]
  },
  {
   "cell_type": "markdown",
   "metadata": {},
   "source": [
    "## Series"
   ]
  },
  {
   "cell_type": "code",
   "execution_count": 27,
   "metadata": {},
   "outputs": [
    {
     "name": "stdout",
     "output_type": "stream",
     "text": [
      "0    1\n",
      "1    2\n",
      "2    3\n",
      "dtype: int64\n",
      "\n",
      "a    1.0\n",
      "b    2.0\n",
      "c    2.0\n",
      "d    NaN\n",
      "dtype: float64\n"
     ]
    }
   ],
   "source": [
    "# Normal series and series with custom index\n",
    "s1 = pd.Series([1,2,3])\n",
    "s2 = pd.Series([1,2,2, np.nan], index=list(\"abcd\"))\n",
    "print(s1)\n",
    "print()\n",
    "print(s2)"
   ]
  },
  {
   "cell_type": "code",
   "execution_count": 4,
   "metadata": {},
   "outputs": [
    {
     "name": "stdout",
     "output_type": "stream",
     "text": [
      "[1, 3, 'abcd']\n"
     ]
    }
   ],
   "source": [
    "a = [1,3, \"abcd\"]\n",
    "print(a)"
   ]
  },
  {
   "cell_type": "code",
   "execution_count": 22,
   "metadata": {},
   "outputs": [
    {
     "name": "stdout",
     "output_type": "stream",
     "text": [
      "0    1.0\n",
      "1    2.0\n",
      "2    3.0\n",
      "dtype: float64\n",
      "0    1\n",
      "1    2\n",
      "2    3\n",
      "dtype: int8\n"
     ]
    }
   ],
   "source": [
    "# changing dtype\n",
    "s1 = pd.Series([1,2,3], dtype=\"float64\")\n",
    "t =  s1.astype(dtype=\"int8\")\n",
    "print(s1)\n",
    "print(t)"
   ]
  },
  {
   "cell_type": "code",
   "execution_count": 18,
   "metadata": {},
   "outputs": [
    {
     "name": "stdout",
     "output_type": "stream",
     "text": [
      "(3,)\n",
      "3\n",
      "float64\n",
      "Index Index(['a', 'b', 'c', 'd'], dtype='object')\n",
      "Values [ 1.  2.  2. nan]\n",
      "\n",
      "Unique [ 1.  2. nan]\n"
     ]
    }
   ],
   "source": [
    "# shape, size, dtype, index, values, unique\n",
    "print(s1.shape)\n",
    "print(s1.size)\n",
    "print(s1.dtype)\n",
    "print(\"Index\", s2.index)\n",
    "print(\"Values\", s2.values)"
   ]
  },
  {
   "cell_type": "code",
   "execution_count": 36,
   "metadata": {},
   "outputs": [
    {
     "name": "stdout",
     "output_type": "stream",
     "text": [
      "5.0\n",
      "2.0\n",
      "2.0\n",
      "\n",
      "Unique [ 1.  2. nan]\n"
     ]
    }
   ],
   "source": [
    "# aggregate operations\n",
    "print(s2.sum())\n",
    "print(s1.mean())\n",
    "print(s1.median())\n",
    "print(\"\\nUnique\", s2.unique())"
   ]
  },
  {
   "cell_type": "code",
   "execution_count": 35,
   "metadata": {},
   "outputs": [
    {
     "name": "stdout",
     "output_type": "stream",
     "text": [
      "0    10\n",
      "1    20\n",
      "2    30\n",
      "dtype: int64\n",
      "0    1\n",
      "1    2\n",
      "2    3\n",
      "dtype: int64\n",
      "\n",
      "0    11\n",
      "1    22\n",
      "2    33\n",
      "dtype: int64\n",
      "Mis match size\n"
     ]
    },
    {
     "ename": "ValueError",
     "evalue": "operands could not be broadcast together with shapes (3,) (4,) ",
     "output_type": "error",
     "traceback": [
      "\u001b[1;31m---------------------------------------------------------------------------\u001b[0m",
      "\u001b[1;31mValueError\u001b[0m                                Traceback (most recent call last)",
      "\u001b[1;32m<ipython-input-35-212260c78be2>\u001b[0m in \u001b[0;36m<module>\u001b[1;34m\u001b[0m\n\u001b[0;32m      8\u001b[0m \u001b[1;33m\u001b[0m\u001b[0m\n\u001b[0;32m      9\u001b[0m \u001b[0mprint\u001b[0m\u001b[1;33m(\u001b[0m\u001b[1;34m\"Mis match size\"\u001b[0m\u001b[1;33m)\u001b[0m\u001b[1;33m\u001b[0m\u001b[1;33m\u001b[0m\u001b[0m\n\u001b[1;32m---> 10\u001b[1;33m \u001b[0mprint\u001b[0m\u001b[1;33m(\u001b[0m\u001b[0ms1\u001b[0m\u001b[1;33m.\u001b[0m\u001b[0mvalues\u001b[0m\u001b[1;33m*\u001b[0m\u001b[0ms2\u001b[0m\u001b[1;33m.\u001b[0m\u001b[0mvalues\u001b[0m\u001b[1;33m)\u001b[0m\u001b[1;33m\u001b[0m\u001b[1;33m\u001b[0m\u001b[0m\n\u001b[0m\u001b[0;32m     11\u001b[0m \u001b[1;33m\u001b[0m\u001b[0m\n",
      "\u001b[1;31mValueError\u001b[0m: operands could not be broadcast together with shapes (3,) (4,) "
     ]
    }
   ],
   "source": [
    "# arithmetic operations(new copy) and broadcast like numpy\n",
    "t = s1*10\n",
    "print(t)\n",
    "print(s1)\n",
    "\n",
    "print()\n",
    "print(s1+t)\n",
    "\n",
    "\n",
    "print(\"Mis match size\")\n",
    "print(s1.values*s2.values)\n",
    "\n",
    "\n",
    "# 1 2 3\n",
    "# 4 5 6\n",
    "#*\n",
    "#1 10 20\n"
   ]
  },
  {
   "cell_type": "code",
   "execution_count": 51,
   "metadata": {},
   "outputs": [
    {
     "name": "stdout",
     "output_type": "stream",
     "text": [
      "1\n",
      "\n",
      "0    1\n",
      "1    2\n",
      "2    3\n",
      "dtype: int64\n",
      "\n",
      "0    1\n",
      "dtype: int64\n",
      "\n",
      "0    1\n",
      "2    3\n",
      "dtype: int64\n"
     ]
    }
   ],
   "source": [
    "# indexing and slicing\n",
    "print(s1[0])\n",
    "print()\n",
    "print(s1[0:])\n",
    "print()\n",
    "print(s1[0:1])\n",
    "print()\n",
    "print(s1[ [True, False, True] ])"
   ]
  },
  {
   "cell_type": "code",
   "execution_count": 49,
   "metadata": {},
   "outputs": [
    {
     "name": "stdout",
     "output_type": "stream",
     "text": [
      "0    1\n",
      "1    0\n",
      "2    1\n",
      "dtype: int64\n",
      "\n",
      "0     True\n",
      "1    False\n",
      "2     True\n",
      "dtype: bool\n",
      "\n",
      "0    1\n",
      "2    3\n",
      "dtype: int64\n"
     ]
    }
   ],
   "source": [
    "# result of operations as index\n",
    "t =  s1 % 2\n",
    "print(t)\n",
    "print()\n",
    "print(t == 1)\n",
    "print()\n",
    "print(s1[t == 1])\n"
   ]
  },
  {
   "cell_type": "code",
   "execution_count": 81,
   "metadata": {},
   "outputs": [
    {
     "name": "stdout",
     "output_type": "stream",
     "text": [
      "0    1\n",
      "1    2\n",
      "2    3\n",
      "dtype: int64\n",
      "\n",
      "0     True\n",
      "1    False\n",
      "2    False\n",
      "dtype: bool\n",
      "0    False\n",
      "1     True\n",
      "2    False\n",
      "dtype: bool\n",
      "\n",
      "0     True\n",
      "1     True\n",
      "2    False\n",
      "dtype: bool\n",
      "\n",
      "0    1\n",
      "1    2\n",
      "dtype: int64\n"
     ]
    }
   ],
   "source": [
    "print(s1)\n",
    "print()\n",
    "r1 = s1 == 1\n",
    "r2 = s1 == 2\n",
    "print(r1)\n",
    "print(r2)\n",
    "print()\n",
    "print(r1 | r2)\n",
    "print()\n",
    "print(s1 [(s1 ==  1) | (s1 ==  2)])"
   ]
  },
  {
   "cell_type": "code",
   "execution_count": 64,
   "metadata": {},
   "outputs": [
    {
     "name": "stdout",
     "output_type": "stream",
     "text": [
      "a    1.0\n",
      "b    2.0\n",
      "c    2.0\n",
      "d    NaN\n",
      "dtype: float64\n",
      "\n",
      "2.0    2\n",
      "1.0    1\n",
      "dtype: int64\n",
      "Float64Index([2.0, 1.0], dtype='float64')\n"
     ]
    }
   ],
   "source": [
    "# frequency : value_counts\n",
    "print(s2)\n",
    "print()\n",
    "v = s2.value_counts()\n",
    "print(v)\n",
    "print(v.index)"
   ]
  },
  {
   "cell_type": "markdown",
   "metadata": {},
   "source": [
    "## DataFrame"
   ]
  },
  {
   "cell_type": "code",
   "execution_count": 77,
   "metadata": {},
   "outputs": [
    {
     "name": "stdout",
     "output_type": "stream",
     "text": [
      "        Name  Age  Gender\n",
      "0     Gaurav  0.0     0.0\n",
      "1  Abhishek1  1.0     0.0\n",
      "2    Krishna  2.0     0.0\n",
      "3  Abhishek2  2.0     0.0\n",
      "4   Harshita  1.0     1.0\n",
      "5       Joey  2.0     1.0\n",
      "6     Shweta  3.0     1.0\n",
      "7       na-1  1.0     NaN\n",
      "8       na-2  NaN     0.0\n",
      "9        NaN  2.0     0.0\n",
      "\n",
      "         Name  Number\n",
      "0      Gaurav       1\n",
      "11   Abhiskek       2\n",
      "2     Krishna       3\n",
      "3   Abhishek2       4\n"
     ]
    }
   ],
   "source": [
    "# dataframe from dict or list of rows\n",
    "df1 = pd.DataFrame(\n",
    "    {\n",
    "        \"Name\":   [\"Gaurav\", \"Abhishek1\", \"Krishna\", \"Abhishek2\", \"Harshita\", \"Joey\", \"Shweta\", \"na-1\" , \"na-2\"  , np.nan],\n",
    "        \"Age\":    [ 0      , 1          , 2        , 2          , 1         , 2     , 3       , 1      ,  np.nan , 2     ],\n",
    "        \"Gender\": [ 0      , 0          , 0        , 0          , 1         , 1     , 1       , np.nan ,  0      , 0     ]\n",
    "    }\n",
    "  #  ,dtype=[\"U20\", \"int8\", \"int8\"]\n",
    ")\n",
    "df2 = pd.DataFrame([(\"Gaurav\",1), (\"Abhiskek\",2), (\"Krishna\",3), (\"Abhishek2\",4)],\n",
    "                    index=[0,11,2,3], \n",
    "                    columns=[\"Name\", \"Number\"])\n",
    "print(df1)\n",
    "print()\n",
    "print(df2)\n",
    "#print(dir(df1))"
   ]
  },
  {
   "cell_type": "code",
   "execution_count": 78,
   "metadata": {},
   "outputs": [
    {
     "data": {
      "text/plain": [
       "0       Gaurav\n",
       "1    Abhishek1\n",
       "2      Krishna\n",
       "3    Abhishek2\n",
       "4     Harshita\n",
       "5         Joey\n",
       "6       Shweta\n",
       "7         na-1\n",
       "8         na-2\n",
       "9          NaN\n",
       "Name: Name, dtype: object"
      ]
     },
     "execution_count": 78,
     "metadata": {},
     "output_type": "execute_result"
    }
   ],
   "source": [
    "type(df1.Name)\n",
    "df1[\"Name\"]"
   ]
  },
  {
   "cell_type": "code",
   "execution_count": null,
   "metadata": {},
   "outputs": [],
   "source": []
  },
  {
   "cell_type": "code",
   "execution_count": 75,
   "metadata": {},
   "outputs": [
    {
     "name": "stdout",
     "output_type": "stream",
     "text": [
      "(10, 3)\n",
      "             0          1        2          3         4     5       6     7  \\\n",
      "Name    Gaurav  Abhishek1  Krishna  Abhishek2  Harshita  Joey  Shweta  na-1   \n",
      "Age          0          1        2          2         1     2       3     1   \n",
      "Gender       0          0        0          0         1     1       1   NaN   \n",
      "\n",
      "           8    9  \n",
      "Name    na-2  NaN  \n",
      "Age      NaN    2  \n",
      "Gender     0    0  \n"
     ]
    }
   ],
   "source": [
    "# shape, size, dtypes, index, columns, unique, T\n",
    "print(df1.shape)\n",
    "print(df1.T)"
   ]
  },
  {
   "cell_type": "code",
   "execution_count": 91,
   "metadata": {},
   "outputs": [
    {
     "name": "stdout",
     "output_type": "stream",
     "text": [
      "None\n",
      "\n",
      "          Name  Age\n",
      "0       Gaurav    1\n",
      "100   Abhiskek    2\n",
      "200    Krishna    3\n",
      "300  Abhishek2    4\n",
      "          Name  Age\n",
      "0       Gaurav    1\n",
      "100   Abhiskek    2\n",
      "200    Krishna    3\n",
      "300  Abhishek2    4\n",
      "           Name  Age\n",
      "0        Gaurav    1\n",
      "1000   Abhiskek    2\n",
      "2000    Krishna    3\n",
      "3000  Abhishek2    4\n"
     ]
    }
   ],
   "source": [
    "# Rename index and columns on df2.\n",
    "# Inplace vs normal operation\n",
    "t = df2.rename(columns={\"Number\":\"Age\"}, inplace=True)\n",
    "print(t)\n",
    "print()\n",
    "print(df2)\n",
    "\n",
    "df2.rename(index={11:1}, inplace=True)\n",
    "print(df2)\n",
    "\n",
    "df2.rename(index=lambda x: x*10, inplace=True)\n",
    "print(df2)"
   ]
  },
  {
   "cell_type": "code",
   "execution_count": 92,
   "metadata": {},
   "outputs": [
    {
     "data": {
      "text/plain": [
       "0       Gaurav\n",
       "1    Abhishek1\n",
       "2      Krishna\n",
       "3    Abhishek2\n",
       "4     Harshita\n",
       "5         Joey\n",
       "6       Shweta\n",
       "7         na-1\n",
       "8         na-2\n",
       "9          NaN\n",
       "Name: Name, dtype: object"
      ]
     },
     "execution_count": 92,
     "metadata": {},
     "output_type": "execute_result"
    }
   ],
   "source": [
    "# Indexing columns directly and via index.\n",
    "df1.Name\n",
    "df1[\"Name\"]"
   ]
  },
  {
   "cell_type": "code",
   "execution_count": null,
   "metadata": {},
   "outputs": [],
   "source": [
    "# Series in a DataFrame"
   ]
  },
  {
   "cell_type": "code",
   "execution_count": 101,
   "metadata": {},
   "outputs": [
    {
     "name": "stdout",
     "output_type": "stream",
     "text": [
      "        Name  Age  Gender\n",
      "0     Gaurav  0.0     0.0\n",
      "1  Abhishek1  1.0     0.0\n",
      "\n",
      "   Name  Age  Gender\n",
      "8  na-2  NaN     0.0\n",
      "9   NaN  2.0     0.0\n",
      "          Name       Age    Gender\n",
      "count        9  9.000000  9.000000\n",
      "unique       9       NaN       NaN\n",
      "top     Shweta       NaN       NaN\n",
      "freq         1       NaN       NaN\n",
      "mean       NaN  1.555556  0.333333\n",
      "std        NaN  0.881917  0.500000\n",
      "min        NaN  0.000000  0.000000\n",
      "25%        NaN  1.000000  0.000000\n",
      "50%        NaN  2.000000  0.000000\n",
      "75%        NaN  2.000000  1.000000\n",
      "max        NaN  3.000000  1.000000\n",
      "\n",
      "Name       object\n",
      "Age       float64\n",
      "Gender    float64\n",
      "dtype: object\n"
     ]
    }
   ],
   "source": [
    "# describe, top/bottom rows of data\n",
    "print(df1.head(2)) # default first five\n",
    "print()\n",
    "print(df1.tail(2)) # default last five\n",
    "\n",
    "print(df1.describe(include=\"all\"))\n",
    "print()\n",
    "print(df1.dtypes)"
   ]
  },
  {
   "cell_type": "code",
   "execution_count": null,
   "metadata": {},
   "outputs": [],
   "source": [
    "# indexing and slicing\n",
    "# loc, iloc [rows, cols]"
   ]
  },
  {
   "cell_type": "code",
   "execution_count": 113,
   "metadata": {},
   "outputs": [
    {
     "name": "stdout",
     "output_type": "stream",
     "text": [
      "Age       0.0\n",
      "Gender    0.0\n",
      "dtype: float64\n"
     ]
    }
   ],
   "source": [
    "# aggregate operations (with and without axis : row-1, col-0)\n",
    "# min, max, count, ...\n",
    "m = df1.min()\n",
    "print(m)"
   ]
  },
  {
   "cell_type": "code",
   "execution_count": null,
   "metadata": {},
   "outputs": [],
   "source": [
    "# arithmetic operations"
   ]
  },
  {
   "cell_type": "code",
   "execution_count": null,
   "metadata": {},
   "outputs": [],
   "source": [
    "# Na Values: isna, fillna, dropna"
   ]
  },
  {
   "cell_type": "code",
   "execution_count": null,
   "metadata": {},
   "outputs": [],
   "source": [
    "# any, all"
   ]
  },
  {
   "cell_type": "code",
   "execution_count": 108,
   "metadata": {
    "scrolled": false
   },
   "outputs": [
    {
     "name": "stdout",
     "output_type": "stream",
     "text": [
      "        Name  Age  Gender\n",
      "0     Gaurav  0.0     0.0\n",
      "1  Abhishek1  1.0     0.0\n",
      "2    Krishna  2.0     0.0\n",
      "3  Abhishek2  2.0     0.0\n",
      "4   Harshita  1.0     1.0\n",
      "5       Joey  2.0     1.0\n",
      "6     Shweta  3.0     1.0\n",
      "7       na-1  1.0     NaN\n",
      "8       na-2  NaN     0.0\n",
      "9        NaN  2.0     0.0\n",
      "\n",
      "        Name  Age  Gender\n",
      "8       na-2  NaN     0.0\n",
      "7       na-1  1.0     NaN\n",
      "6     Shweta  3.0     1.0\n",
      "2    Krishna  2.0     0.0\n",
      "5       Joey  2.0     1.0\n",
      "4   Harshita  1.0     1.0\n",
      "0     Gaurav  0.0     0.0\n",
      "3  Abhishek2  2.0     0.0\n",
      "1  Abhishek1  1.0     0.0\n",
      "9        NaN  2.0     0.0\n",
      "\n",
      "6     Shweta\n",
      "2    Krishna\n",
      "Name: Name, dtype: object\n"
     ]
    }
   ],
   "source": [
    "# ordering data, sort_values\n",
    "print(df1)\n",
    "print()\n",
    "print(df1.sort_values(by=\"Name\", ascending=False))\n",
    "print()\n",
    "print(df1.sort_values(by=[\"Age\", \"Name\"], ascending=False).head(2).Name)"
   ]
  },
  {
   "cell_type": "code",
   "execution_count": null,
   "metadata": {},
   "outputs": [],
   "source": [
    "# row / column wise operation: apply\n",
    "tmp = pd.DataFrame(np.random.randint(10,20,20).reshape(5,4))"
   ]
  },
  {
   "cell_type": "code",
   "execution_count": null,
   "metadata": {},
   "outputs": [],
   "source": [
    "# str submodule (replace etc)"
   ]
  },
  {
   "cell_type": "code",
   "execution_count": null,
   "metadata": {},
   "outputs": [],
   "source": [
    "# load and save data"
   ]
  },
  {
   "cell_type": "code",
   "execution_count": null,
   "metadata": {},
   "outputs": [],
   "source": [
    "# groups: groupby"
   ]
  },
  {
   "cell_type": "code",
   "execution_count": null,
   "metadata": {},
   "outputs": [],
   "source": [
    "# groups and aggregates"
   ]
  }
 ],
 "metadata": {
  "kernelspec": {
   "display_name": "Python 3",
   "language": "python",
   "name": "python3"
  },
  "language_info": {
   "codemirror_mode": {
    "name": "ipython",
    "version": 3
   },
   "file_extension": ".py",
   "mimetype": "text/x-python",
   "name": "python",
   "nbconvert_exporter": "python",
   "pygments_lexer": "ipython3",
   "version": "3.7.4"
  }
 },
 "nbformat": 4,
 "nbformat_minor": 2
}
