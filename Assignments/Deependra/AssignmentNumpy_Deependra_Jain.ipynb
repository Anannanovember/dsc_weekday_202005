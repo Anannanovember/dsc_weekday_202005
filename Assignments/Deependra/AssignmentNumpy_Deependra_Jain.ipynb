{
 "cells": [
  {
   "cell_type": "markdown",
   "metadata": {},
   "source": [
    "## NUMPY\n",
    "- create a numpy array of 5 zeros.\n",
    "    - check datatype, itemsize and shape of above\n",
    "- create a numpy array of ones of shape (5,4)\n",
    "- create a matrix of shape 4,5 with numbers from 1-20\n",
    "- multiply all elements of above array by 10\n",
    "- print odd elements from array\n",
    "- replace all even elements by their negative\n",
    "  \n",
    "  \n",
    "  \n",
    "- create a linearly spaced matrix M1 of size 4x4 having values in range 1-16\n",
    "- create a transpose of above matrix call it M2\n",
    "- find sum of above matrix M3 = (M1 + M2)\n",
    "- Find Transpose of M3, Call it MT1. Check if M3 == MT1\n",
    "- find diffrence of M4 = (M1 - M2)\n",
    "- Find Transpose of M4, Call it MT2. Check if M4 == MT2. Also check if M4 == -MT2\n",
    "  \n",
    "\n",
    "- create a matrix (3x4) R1 of random numbers between 10-40\n",
    "- find min and max column wise\n",
    "- replace the last column with sum of all the columns\n",
    "\n",
    "\n",
    "- create a matrix (3x4) R1 of random numbers between 10-40\n",
    "- replace all even elements with nan in R1\n",
    "- count number of nan in R1\n",
    "\n",
    "\n",
    "\n",
    "- check output of this code  \n",
    "`a1 = np.arange(1,10).reshape(3,3)\n",
    "a2 = np.arange(11,20).reshape(3,3)\n",
    "a3 = np.append(a1,a2)\n",
    "print(a3)\n",
    "a3 = np.append(a1,a2, axis = 0)\n",
    "print(a3)\n",
    "a3 = np.append(a1,a2, axis = 1)\n",
    "print(a3)\n",
    "`\n"
   ]
  },
  {
   "cell_type": "code",
   "execution_count": 4,
   "metadata": {},
   "outputs": [
    {
     "name": "stdout",
     "output_type": "stream",
     "text": [
      "[0. 0. 0. 0. 0.]\n",
      "float64\n",
      "(5,)\n",
      "8\n"
     ]
    }
   ],
   "source": [
    "# create a numpy array of 5 zeros.\n",
    "import numpy as np\n",
    "\n",
    "arr = np.zeros(5)\n",
    "print(arr)\n",
    "print(arr.dtype)\n",
    "print(arr.shape)\n",
    "print(arr.itemsize)"
   ]
  },
  {
   "cell_type": "code",
   "execution_count": 7,
   "metadata": {},
   "outputs": [
    {
     "name": "stdout",
     "output_type": "stream",
     "text": [
      "[[1. 1. 1. 1.]\n",
      " [1. 1. 1. 1.]\n",
      " [1. 1. 1. 1.]\n",
      " [1. 1. 1. 1.]\n",
      " [1. 1. 1. 1.]]\n"
     ]
    }
   ],
   "source": [
    "# create a numpy array of ones of shape (5,4)\n",
    "arr_ones = np.ones((5,4))\n",
    "print(arr_ones)"
   ]
  },
  {
   "cell_type": "code",
   "execution_count": 44,
   "metadata": {
    "scrolled": true
   },
   "outputs": [
    {
     "name": "stdout",
     "output_type": "stream",
     "text": [
      "[[ 1  2  3  4  5]\n",
      " [ 6  7  8  9 10]\n",
      " [11 12 13 14 15]\n",
      " [16 17 18 19 20]]\n",
      "\n",
      "After multiply all elements of above array by 10 are :\n",
      "[[ 10  20  30  40  50]\n",
      " [ 60  70  80  90 100]\n",
      " [110 120 130 140 150]\n",
      " [160 170 180 190 200]]\n",
      "\n",
      "odd elements from array are:\n",
      "1 3 5 7 9 11 13 15 17 19 \n",
      "\n",
      "After replace all even elements by their negative are:\n",
      "[[  1  -2   3  -4   5]\n",
      " [ -6   7  -8   9 -10]\n",
      " [ 11 -12  13 -14  15]\n",
      " [-16  17 -18  19 -20]]\n"
     ]
    }
   ],
   "source": [
    "# create a matrix of shape 4,5 with numbers from 1-20\n",
    "matrix = (np.arange(1,21)).reshape(4,5)\n",
    "print(matrix)\n",
    "\n",
    "# multiply all elements of above array by 10\n",
    "print()\n",
    "print(\"After multiply all elements of above array by 10 are :\")\n",
    "mul_matrix = matrix * 10\n",
    "print(mul_matrix)\n",
    "\n",
    "\n",
    "# print odd elements from array\n",
    "print()\n",
    "oddd_matrix = np.where(matrix % 2 == 1)\n",
    "rows = oddd_matrix[0]\n",
    "columns = oddd_matrix[1]\n",
    "print(\"odd elements from array are:\")\n",
    "for x, y in zip(rows,columns):\n",
    "    print(matrix[x][y], end=\" \")\n",
    "\n",
    "    \n",
    "# - replace all even elements by their negative\n",
    "print(\"\\n\")\n",
    "even_matrix = np.where(matrix % 2 == 0, -1 * matrix, matrix)\n",
    "print(\"After replace all even elements by their negative are:\")\n",
    "print(even_matrix)"
   ]
  },
  {
   "cell_type": "code",
   "execution_count": null,
   "metadata": {},
   "outputs": [],
   "source": []
  },
  {
   "cell_type": "code",
   "execution_count": 70,
   "metadata": {},
   "outputs": [
    {
     "name": "stdout",
     "output_type": "stream",
     "text": [
      "linearly spaced matrix M1 of size 4x4 having values in range 1-16 is: \n",
      "[[ 1  2  3  4]\n",
      " [ 5  6  7  8]\n",
      " [ 9 10 11 12]\n",
      " [13 14 15 16]]\n",
      "\n",
      "\n",
      "transpose of above matrix, M2 is:\n",
      " [[ 1  5  9 13]\n",
      " [ 2  6 10 14]\n",
      " [ 3  7 11 15]\n",
      " [ 4  8 12 16]]\n",
      "\n",
      "\n",
      "Sum of above two matrix M3 is\n",
      "[[ 2  7 12 17]\n",
      " [ 7 12 17 22]\n",
      " [12 17 22 27]\n",
      " [17 22 27 32]]\n",
      "\n",
      " To Check if M3 == MT1\n",
      "Yes, M3 and M1.T are similar.\n",
      "\n",
      "To check diffrence of M4 = (M1 - M2)\n",
      "M4 matrix is :\n",
      " [[ 0 -3 -6 -9]\n",
      " [ 3  0 -3 -6]\n",
      " [ 6  3  0 -3]\n",
      " [ 9  6  3  0]]\n",
      "\n",
      "Que: To find Transpose of M4, Call it MT2. Check if M4 == MT2. Also check if M4 == -MT2\n",
      "M4 and -MT2 are similar\n",
      "\n",
      "\n"
     ]
    }
   ],
   "source": [
    "# create a linearly spaced matrix M1 of size 4x4 having values in range 1-16\n",
    "print(\"linearly spaced matrix M1 of size 4x4 having values in range 1-16 is: \")\n",
    "M1 = np.linspace(1,16,16, dtype=\"int8\")\n",
    "M1.resize(4,4)\n",
    "print(M1)\n",
    "\n",
    "# create a transpose of above matrix call it M2\n",
    "print(\"\\n\")\n",
    "M2 = M1.T\n",
    "print(\"transpose of above matrix, M2 is:\\n\",M2)\n",
    "\n",
    "\n",
    "# find sum of above matrix M3 = (M1 + M2)\n",
    "print(\"\\n\")\n",
    "print(\"Sum of above two matrix M3 is\")\n",
    "M3 = M1 + M2\n",
    "print(M3)\n",
    "\n",
    "# Find Transpose of M3, Call it MT1. Check if M3 == MT1\n",
    "MT1 = M3.T\n",
    "print(\"\\n To Check if M3 == MT1\")\n",
    "# print(M3 == MT1)\n",
    "if (M3==MT1).all():\n",
    "    print(\"Yes, M3 and M1.T are similar.\")\n",
    "\n",
    "\n",
    "# find diffrence of M4 = (M1 - M2)\n",
    "print(\"\\nTo check diffrence of M4 = (M1 - M2)\")\n",
    "M4 = M1 - M2\n",
    "print(\"M4 matrix is :\\n\",M4)\n",
    "\n",
    "# - Find Transpose of M4, Call it MT2. Check if M4 == MT2. Also check if M4 == -MT2\n",
    "print(\"\\nQue: To find Transpose of M4, Call it MT2. Check if M4 == MT2. Also check if M4 == -MT2\")\n",
    "MT2 = M4.T\n",
    "\n",
    "if (M4 == MT2).all():\n",
    "    print(\"M4 and MT2 are similar\")\n",
    "elif (M4 == -MT2).all():\n",
    "    print(\"M4 and -MT2 are similar\")\n",
    "print(\"\\n\")    "
   ]
  },
  {
   "cell_type": "code",
   "execution_count": null,
   "metadata": {},
   "outputs": [],
   "source": []
  },
  {
   "cell_type": "code",
   "execution_count": 94,
   "metadata": {},
   "outputs": [
    {
     "name": "stdout",
     "output_type": "stream",
     "text": [
      "Que: create a matrix (3x4) R1 of random numbers between 10-40.\n",
      "R1 matrix is \n",
      " [[20 21 37 13]\n",
      " [37 11 16 31]\n",
      " [11 22 31 38]]\n",
      "\n",
      "min value column wise are \n",
      " [11 11 16 13]\n",
      "\n",
      "max value column wise are \n",
      " [37 22 37 38]\n",
      "\n",
      "After replacing the last column with sum of all the columns are:\n",
      "[[ 20  21  37  91]\n",
      " [ 37  11  16  95]\n",
      " [ 11  22  31 102]]\n"
     ]
    }
   ],
   "source": [
    "# - create a matrix (3x4) R1 of random numbers between 10-40\n",
    "R1 = np.random.randint(10,40, 12)\n",
    "R1.resize(3,4)\n",
    "print(\"Que: create a matrix (3x4) R1 of random numbers between 10-40.\")\n",
    "print(\"R1 matrix is \\n\",R1)\n",
    "\n",
    "\n",
    "# - find min and max column wise\n",
    "min_col = R1.min(axis=0)\n",
    "max_col = R1.max(axis=0)\n",
    "print(\"\\nmin value column wise are \\n\",min_col)\n",
    "print(\"\\nmax value column wise are \\n\",max_col)\n",
    "\n",
    "\n",
    "# - replace the last column with sum of all the columns\n",
    "R1[:,-1] = R1.sum(axis=1)\n",
    "print(\"\\nAfter replacing the last column with sum of all the columns are:\")\n",
    "print(R1)"
   ]
  },
  {
   "cell_type": "code",
   "execution_count": null,
   "metadata": {},
   "outputs": [],
   "source": []
  },
  {
   "cell_type": "code",
   "execution_count": 126,
   "metadata": {},
   "outputs": [
    {
     "name": "stdout",
     "output_type": "stream",
     "text": [
      "matrix (3x4) R1 of random numbers between 10-40 is: \n",
      "[[11 16 34 13]\n",
      " [13 31 16 39]\n",
      " [37 28 20 33]]\n",
      "\n",
      " Replaced all even elements with nan in R1 and matrix is:\n",
      "[[11. nan nan 13.]\n",
      " [13. 31. nan 39.]\n",
      " [37. nan nan 33.]]\n",
      "\n",
      "number of nan in R1 is :  5\n"
     ]
    }
   ],
   "source": [
    "# - create a matrix (3x4) R1 of random numbers between 10-40\n",
    "R1 = np.random.randint(10,40,12)\n",
    "R1.resize(3,4)\n",
    "print(\"matrix (3x4) R1 of random numbers between 10-40 is: \")\n",
    "print(R1)\n",
    "\n",
    "\n",
    "# - replace all even elements with nan in R1\n",
    "R1 = np.where(R1%2 == 0, np.nan, R1)\n",
    "print(\"\\n Replaced all even elements with nan in R1 and matrix is:\")\n",
    "print(R1)\n",
    "\n",
    "\n",
    "# - count number of nan in R1\n",
    "i = 0\n",
    "nan_cnt = np.where(R1 * 0 != 0)\n",
    "print(\"\\nnumber of nan in R1 is : \", len(nan_cnt[0]))\n",
    "\n"
   ]
  }
 ],
 "metadata": {
  "kernelspec": {
   "display_name": "Python 3",
   "language": "python",
   "name": "python3"
  },
  "language_info": {
   "codemirror_mode": {
    "name": "ipython",
    "version": 3
   },
   "file_extension": ".py",
   "mimetype": "text/x-python",
   "name": "python",
   "nbconvert_exporter": "python",
   "pygments_lexer": "ipython3",
   "version": "3.7.3"
  }
 },
 "nbformat": 4,
 "nbformat_minor": 2
}
