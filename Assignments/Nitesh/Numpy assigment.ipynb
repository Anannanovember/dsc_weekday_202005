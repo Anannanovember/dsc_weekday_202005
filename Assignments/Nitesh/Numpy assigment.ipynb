{
 "cells": [
  {
   "cell_type": "code",
   "execution_count": 58,
   "metadata": {},
   "outputs": [
    {
     "name": "stdout",
     "output_type": "stream",
     "text": [
      "[0. 0. 0. 0. 0.]\n",
      "float64\n",
      "8\n",
      "(5,)\n"
     ]
    }
   ],
   "source": [
    "# create a numpy array of 5 zeros.\n",
    "# check datatype, itemsize and shape of above\n",
    "import numpy as np\n",
    "a = np.zeros(5)\n",
    "print(a)\n",
    "print(a.dtype)\n",
    "print(a.itemsize)\n",
    "print(a.shape)"
   ]
  },
  {
   "cell_type": "code",
   "execution_count": 59,
   "metadata": {},
   "outputs": [
    {
     "name": "stdout",
     "output_type": "stream",
     "text": [
      "[[17 27 12 16]\n",
      " [16 27 21 27]\n",
      " [14 10 13 19]\n",
      " [28 19 21 21]\n",
      " [21 17 28 14]]\n",
      "(5, 4)\n"
     ]
    }
   ],
   "source": [
    "# create a numpy array of ones of shape (5,4)\n",
    "a = np.random.randint(10,30,20)\n",
    "b = a.reshape(5,4)\n",
    "print(b)\n",
    "print(b.shape)"
   ]
  },
  {
   "cell_type": "code",
   "execution_count": 60,
   "metadata": {},
   "outputs": [
    {
     "name": "stdout",
     "output_type": "stream",
     "text": [
      "[ 2 11  8 19 12 13 11 11 16 12 14 19 19 18  9  2  2 19 19 14]\n",
      "[[ 2 11  8 19 12]\n",
      " [13 11 11 16 12]\n",
      " [14 19 19 18  9]\n",
      " [ 2  2 19 19 14]]\n"
     ]
    }
   ],
   "source": [
    "# create a matrix of shape 4,5 with numbers from 1-20\n",
    "import numpy as np\n",
    "a1 = np.random.randint(1,20,20)\n",
    "print(a1)\n",
    "a2 = a1.reshape(4,5)\n",
    "print(a2)\n"
   ]
  },
  {
   "cell_type": "code",
   "execution_count": 61,
   "metadata": {},
   "outputs": [
    {
     "name": "stdout",
     "output_type": "stream",
     "text": [
      "[[ 20 110  80 190 120]\n",
      " [130 110 110 160 120]\n",
      " [140 190 190 180  90]\n",
      " [ 20  20 190 190 140]]\n"
     ]
    }
   ],
   "source": [
    "# multiply all elements of above array by 10\n",
    "print(a2*10)"
   ]
  },
  {
   "cell_type": "code",
   "execution_count": 80,
   "metadata": {},
   "outputs": [
    {
     "name": "stdout",
     "output_type": "stream",
     "text": [
      "[11, 19, 13, 11, 11, 19, 19, 9, 19, 19]\n"
     ]
    }
   ],
   "source": [
    "# print odd elements from array\n",
    "a3 = [i for i in a1 if i%2 ==1]\n",
    "print(a3)\n"
   ]
  },
  {
   "cell_type": "code",
   "execution_count": 81,
   "metadata": {},
   "outputs": [
    {
     "name": "stdout",
     "output_type": "stream",
     "text": [
      "[-1 11 -1 19 -1 13 11 11 -1 -1 -1 19 19 -1  9 -1 -1 19 19 -1]\n"
     ]
    }
   ],
   "source": [
    "# replace all even elements by their negative\n",
    "even_no = (a1%2 ==0)\n",
    "a1[even_no]= -1\n",
    "print(a1)"
   ]
  },
  {
   "cell_type": "code",
   "execution_count": 63,
   "metadata": {},
   "outputs": [
    {
     "name": "stdout",
     "output_type": "stream",
     "text": [
      "[[ 1.  2.  3.  4.]\n",
      " [ 5.  6.  7.  8.]\n",
      " [ 9. 10. 11. 12.]\n",
      " [13. 14. 15. 16.]]\n"
     ]
    }
   ],
   "source": [
    "# create a linearly spaced matrix M1 of size 4x4 having values in range 1-16\n",
    "a4 = np.linspace(1,16,16)\n",
    "M1 = a4.reshape(4,4)\n",
    "print(M1)"
   ]
  },
  {
   "cell_type": "code",
   "execution_count": 65,
   "metadata": {},
   "outputs": [
    {
     "name": "stdout",
     "output_type": "stream",
     "text": [
      "[[ 1.  5.  9. 13.]\n",
      " [ 2.  6. 10. 14.]\n",
      " [ 3.  7. 11. 15.]\n",
      " [ 4.  8. 12. 16.]]\n"
     ]
    }
   ],
   "source": [
    "# create a transpose of above matrix call it M2\n",
    "M2 = M1.transpose()\n",
    "print(M2)\n"
   ]
  },
  {
   "cell_type": "code",
   "execution_count": 66,
   "metadata": {},
   "outputs": [
    {
     "name": "stdout",
     "output_type": "stream",
     "text": [
      "[[ 2.  7. 12. 17.]\n",
      " [ 7. 12. 17. 22.]\n",
      " [12. 17. 22. 27.]\n",
      " [17. 22. 27. 32.]]\n"
     ]
    }
   ],
   "source": [
    "# find sum of above matrix M3 = (M1 + M2)\n",
    "M3 = M1+M2\n",
    "print(M3)"
   ]
  },
  {
   "cell_type": "code",
   "execution_count": 67,
   "metadata": {},
   "outputs": [
    {
     "name": "stdout",
     "output_type": "stream",
     "text": [
      "[[ 2.  7. 12. 17.]\n",
      " [ 7. 12. 17. 22.]\n",
      " [12. 17. 22. 27.]\n",
      " [17. 22. 27. 32.]]\n",
      "[[ True  True  True  True]\n",
      " [ True  True  True  True]\n",
      " [ True  True  True  True]\n",
      " [ True  True  True  True]]\n"
     ]
    }
   ],
   "source": [
    "# Find Transpose of M3, Call it MT1. Check if M3 == MT1\n",
    "MT1 = M3.transpose()\n",
    "print(MT1)\n",
    "print(M3==MT1)"
   ]
  },
  {
   "cell_type": "code",
   "execution_count": 68,
   "metadata": {},
   "outputs": [
    {
     "name": "stdout",
     "output_type": "stream",
     "text": [
      "[[ 0. -3. -6. -9.]\n",
      " [ 3.  0. -3. -6.]\n",
      " [ 6.  3.  0. -3.]\n",
      " [ 9.  6.  3.  0.]]\n"
     ]
    }
   ],
   "source": [
    "# find diffrence of M4 = (M1 - M2)\n",
    "M4 = (M1-M2)\n",
    "print(M4)"
   ]
  },
  {
   "cell_type": "code",
   "execution_count": 69,
   "metadata": {},
   "outputs": [
    {
     "name": "stdout",
     "output_type": "stream",
     "text": [
      "[[ 0.  3.  6.  9.]\n",
      " [-3.  0.  3.  6.]\n",
      " [-6. -3.  0.  3.]\n",
      " [-9. -6. -3.  0.]]\n",
      "[[ True  True  True  True]\n",
      " [ True  True  True  True]\n",
      " [ True  True  True  True]\n",
      " [ True  True  True  True]]\n"
     ]
    }
   ],
   "source": [
    "# Find Transpose of M4, Call it MT2. Check if M4 == MT2. Also check if M4 == -MT2\n",
    "MT2 = M4.transpose()\n",
    "print(MT2)\n",
    "print(M4==-MT2)"
   ]
  },
  {
   "cell_type": "code",
   "execution_count": 70,
   "metadata": {},
   "outputs": [
    {
     "name": "stdout",
     "output_type": "stream",
     "text": [
      "[[20 35 13 26]\n",
      " [29 17 37 18]\n",
      " [13 37 14 29]]\n"
     ]
    }
   ],
   "source": [
    "# create a matrix (3x4) R1 of random numbers between 10-40\n",
    "a5 = np.random.randint(10,40,12)\n",
    "r1 = a5.reshape(3,4)\n",
    "print(r1)\n"
   ]
  },
  {
   "cell_type": "code",
   "execution_count": 71,
   "metadata": {},
   "outputs": [
    {
     "name": "stdout",
     "output_type": "stream",
     "text": [
      "[13 17 13 18]\n",
      "[29 37 37 29]\n"
     ]
    }
   ],
   "source": [
    "# find min and max column wise\n",
    "minimum = r1.min(axis=0)\n",
    "print(minimum)\n",
    "maximum = r1.max(axis=0)\n",
    "print(maximum)"
   ]
  },
  {
   "cell_type": "code",
   "execution_count": 74,
   "metadata": {},
   "outputs": [
    {
     "name": "stdout",
     "output_type": "stream",
     "text": [
      "[[ 20  35  13  62]\n",
      " [ 29  17  37 106]\n",
      " [ 13  37  14  87]]\n",
      "[ 62  89  64 255]\n",
      "[[20 35 13 62]\n",
      " [29 17 37 89]\n",
      " [13 37 14 64]]\n"
     ]
    }
   ],
   "source": [
    "# replace the last column with sum of all the columns\n",
    "print(r1)\n",
    "c0 = r1.sum(axis=0)\n",
    "print(c0)\n",
    "r1[0,3] = c0[0]\n",
    "r1[1,3] = c0[1]\n",
    "r1[2,3] = c0[2]\n",
    "print(r1)"
   ]
  },
  {
   "cell_type": "code",
   "execution_count": 84,
   "metadata": {},
   "outputs": [
    {
     "name": "stdout",
     "output_type": "stream",
     "text": [
      "[[39 30 12 25]\n",
      " [22 10 16 10]\n",
      " [34 14 12 27]]\n",
      "[39 30 12 25 22 10 16 10 34 14 12 27]\n"
     ]
    }
   ],
   "source": [
    "# create a matrix (3x4) R1 of random numbers between 10-40\n",
    "a6 = np.random.randint(10,40,12)\n",
    "r1 = a6.reshape(3,4)\n",
    "print(r1)\n",
    "print(a6)"
   ]
  },
  {
   "cell_type": "code",
   "execution_count": 96,
   "metadata": {},
   "outputs": [
    {
     "name": "stdout",
     "output_type": "stream",
     "text": [
      "[39 -1 -1 25 -1 -1 -1 -1 -1 -1 -1 27]\n"
     ]
    }
   ],
   "source": [
    "# replace all even elements with nan in R1\n",
    "even_no = (a6%2==0)\n",
    "a6[even_no] = -1\n",
    "\n",
    "print(a6)"
   ]
  },
  {
   "cell_type": "code",
   "execution_count": null,
   "metadata": {},
   "outputs": [],
   "source": [
    "# count number of nan in R1"
   ]
  },
  {
   "cell_type": "markdown",
   "metadata": {},
   "source": [
    "# check output of this code\n",
    "a1 = np.arange(1,10).reshape(3,3)\n",
    "a2 = np.arange(11,20).reshape(3,3)\n",
    "a3 = np.append(a1,a2)\n",
    "print(a3)\n",
    "a3 = np.append(a1,a2, axis = 0)\n",
    "print(a3)\n",
    "a3 = np.append(a1,a2, axis = 1)\n",
    "print(a3)"
   ]
  },
  {
   "cell_type": "code",
   "execution_count": 99,
   "metadata": {},
   "outputs": [
    {
     "name": "stdout",
     "output_type": "stream",
     "text": [
      "[3, 1]\n",
      "[1, 4, 9]\n",
      "<built-in function print>\n",
      "\n",
      "None\n"
     ]
    }
   ],
   "source": [
    "# 1. \n",
    "a = [1,2,3]\n",
    "print(a[::-1][::2])\n",
    "# Ys Here > y y yyyyy\n",
    "# Ns Here >n\n",
    "\n",
    "# 2. \n",
    "a  = [1,2,3]\n",
    "print( list(  map(lambda x: x*x, a)   )  )\n",
    "# Ys Here >y yy\n",
    "# Ns Here >nn\n",
    "\n",
    "# 3. \n",
    "print(print)\n",
    "print(print())\n",
    "# Ys Here >\n",
    "# Ns Here >nnnn"
   ]
  },
  {
   "cell_type": "code",
   "execution_count": null,
   "metadata": {},
   "outputs": [],
   "source": []
  },
  {
   "cell_type": "code",
   "execution_count": null,
   "metadata": {},
   "outputs": [],
   "source": []
  },
  {
   "cell_type": "code",
   "execution_count": null,
   "metadata": {},
   "outputs": [],
   "source": []
  }
 ],
 "metadata": {
  "kernelspec": {
   "display_name": "Python 3",
   "language": "python",
   "name": "python3"
  },
  "language_info": {
   "codemirror_mode": {
    "name": "ipython",
    "version": 3
   },
   "file_extension": ".py",
   "mimetype": "text/x-python",
   "name": "python",
   "nbconvert_exporter": "python",
   "pygments_lexer": "ipython3",
   "version": "3.7.6"
  }
 },
 "nbformat": 4,
 "nbformat_minor": 4
}
